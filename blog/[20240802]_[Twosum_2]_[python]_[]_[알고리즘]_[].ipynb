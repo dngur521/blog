{
 "cells": [
  {
   "cell_type": "markdown",
   "id": "29559516",
   "metadata": {},
   "source": [
    "# Two sum (2)\n",
    "정수가 저장된 배열 nums가 주어졌을 때, nums의 원소 중 두 숫자를 더해서 target이 될 수 있으면 True, 불가능하면 False를 반환하세요. 같은 원소를 두 번 사용할 수 없습니다."
   ]
  },
  {
   "cell_type": "code",
   "execution_count": null,
   "id": "db021497",
   "metadata": {},
   "outputs": [],
   "source": [
    "nums = list(map(int, input('배열을 띄어쓰기로 입력해주세요: ').split()))\n",
    "target = int(input('target을 설정해주세요: '))\n",
    "\n",
    "def twoSum(nums, target):\n",
    "    nums_len = len(nums)\n",
    "    nums.sort() # 시간복잡도 O(nlogn)\n",
    "\n",
    "    left  = 0\n",
    "    right = nums_len - 1\n",
    "\n",
    "    while (nums[left] != nums[right]): # 시간복잡도 O(n)\n",
    "        if   ((nums[left] + nums[right]) > target):\n",
    "            right = right - 1\n",
    "        elif ((nums[left] + nums[right]) < target):\n",
    "            left = left + 1\n",
    "        else:\n",
    "            return True\n",
    "    return False\n",
    "\n",
    "print(twoSum(nums, target))\n"
   ]
  }
 ],
 "metadata": {
  "language_info": {
   "name": "python"
  }
 },
 "nbformat": 4,
 "nbformat_minor": 5
}
