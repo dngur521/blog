{
 "cells": [
  {
   "cell_type": "markdown",
   "id": "29559516",
   "metadata": {},
   "source": [
    "# Two sum\n",
    "정수가 저장된 배열 nums가 주어졌을 때, nums의 원소 중 두 숫자를 더해서 target이 될 수 있으면 True, 불가능하면 False를 반환하세요. 같은 원소를 두 번 사용할 수 없습니다."
   ]
  },
  {
   "cell_type": "code",
   "execution_count": null,
   "id": "db021497",
   "metadata": {},
   "outputs": [],
   "source": [
    "nums = list(map(int, input('배열을 띄어쓰기로 입력해주세요: ').split()))\n",
    "target = int(input('target을 설정해주세요: '))\n",
    "\n",
    "def twoSum(nums, target):\n",
    "    nums_len = len(nums)\n",
    "\n",
    "    for i in range(0, nums_len - 1):\n",
    "        for j in range(i + 1, nums_len):\n",
    "            if (nums[i] + nums[j] == target):\n",
    "                return True\n",
    "    return False\n",
    "\n",
    "print(twoSum(nums, target))"
   ]
  }
 ],
 "metadata": {
  "language_info": {
   "name": "python"
  }
 },
 "nbformat": 4,
 "nbformat_minor": 5
}
