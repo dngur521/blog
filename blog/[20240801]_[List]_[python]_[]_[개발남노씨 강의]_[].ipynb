{
 "cells": [
  {
   "cell_type": "markdown",
   "id": "29559516",
   "metadata": {},
   "source": [
    "# Two sum\n",
    "정수가 저장된 배열 nums가 주어졌을 때, nums의 원소 중 두 숫자를 더해서 target이 될 수 있으면 True, 불가능하면 False를 반환하세요. 같은 원소를 두 번 사용할 수 없습니다."
   ]
  },
  {
   "cell_type": "code",
   "execution_count": null,
   "id": "db021497",
   "metadata": {},
   "outputs": [],
   "source": [
    "nums = list(map(int, input('배열을 띄어쓰기로 입력해주세요: ').split()))\n",
    "target = int(input('target을 설정해주세요: '))\n",
    "\n",
    "def twoSum(nums, target):\n",
    "    nums_len = len(nums)\n",
    "\n",
    "    for i in range(0, nums_len - 1):\n",
    "        for j in range(i + 1, nums_len):\n",
    "            if (nums[i] + nums[j] == target):\n",
    "                return True\n",
    "    return False\n",
    "\n",
    "print(twoSum(nums, target))"
   ]
  },
  {
   "cell_type": "markdown",
   "id": "a7723853",
   "metadata": {},
   "source": [
    "# Two sum (2)\n"
   ]
  },
  {
   "cell_type": "code",
   "execution_count": null,
   "id": "f13e8df3",
   "metadata": {},
   "outputs": [],
   "source": [
    "nums = list(map(int, input('배열을 띄어쓰기로 입력해주세요: ').split()))\n",
    "target = int(input('target을 설정해주세요: '))\n",
    "\n",
    "def twoSum(nums, target):\n",
    "    nums_len = len(nums)\n",
    "    nums.sort() # 시간복잡도 O(nlogn)\n",
    "\n",
    "    left  = 0\n",
    "    right = nums_len - 1\n",
    "\n",
    "    while (nums[left] != nums[right]): # 시간복잡도 O(n)\n",
    "        if   ((nums[left] + nums[right]) > target):\n",
    "            right = right - 1\n",
    "        elif ((nums[left] + nums[right]) < target):\n",
    "            left = left + 1\n",
    "        else:\n",
    "            return True\n",
    "    return False\n",
    "\n",
    "print(twoSum(nums, target))"
   ]
  },
  {
   "cell_type": "markdown",
   "id": "afacaa5c",
   "metadata": {},
   "source": [
    "# Linked List"
   ]
  },
  {
   "cell_type": "code",
   "execution_count": null,
   "id": "0e096ce7",
   "metadata": {},
   "outputs": [],
   "source": [
    "class Node:\n",
    "    def __init__(self, value = 0, next = None):\n",
    "        self.value = value\n",
    "        self.next  = next"
   ]
  },
  {
   "cell_type": "code",
   "execution_count": null,
   "id": "a6449a0d",
   "metadata": {},
   "outputs": [],
   "source": [
    "class LinkedList(object):\n",
    "    def __init__(self):\n",
    "        self.head = None\n",
    "        self.tail = None\n",
    "\n",
    "    def append(self, value):\n",
    "        new_node = Node(value)\n",
    "        if self.head is None: # head는 맨 첫 Node를 가리켜야 한다.\n",
    "            self.head = new_node\n",
    "            self.tail = new_node\n",
    "        else: # 맨 뒤의 node가 new_node를 가리켜야 한다.\n",
    "            # 신 버전 (O(1))\n",
    "            self.tail.next = new_node\n",
    "            self.tail      = self.tail.next\n",
    "\n",
    "            # 옛날 버전 (O(n))\n",
    "            # current = self.head\n",
    "            # while(current.next): # current의 next가 존재하는동안 계속 오른쪽으로 반복, 즉 마지막 노드까지(연결 안된 노드 바로 직전까지) 이동하는 while 문\n",
    "            #     current = current.next\n",
    "            # current.next = new_node # 마지막까지 왔다면 current 다음 주소를 new_node를 가리키게 연결해주기\n",
    "\n",
    "    def get(self, idx): # 시간복잡도: O(n)\n",
    "        current = self.head\n",
    "        for _ in range(idx):\n",
    "            current = current.next\n",
    "        return current.value\n",
    "\n",
    "    def insert_at(self, idx, value):\n",
    "        current = self.head\n",
    "        for _ in range(idx - 1):     # current의 index를 삽입할 위치 직전으로 이동\n",
    "            current = current.next\n",
    "        new_node      = Node(value)  \n",
    "        new_node.next = current.next # 먼저 new_node의 주소값을 원래 current의 next 주소값으로 바꿔주고\n",
    "        current.next  = new_node     # 그 다음에 원래 current의 next 주소값을 new_node의 주소값으로 바꿔주기\n",
    "\n",
    "    def remove_at(self, idx):\n",
    "        current = self.head\n",
    "        for _ in range(idx - 1):\n",
    "            current  = current.next\n",
    "        current.next = current.next.next"
   ]
  },
  {
   "cell_type": "code",
   "execution_count": null,
   "id": "a845e0f3",
   "metadata": {},
   "outputs": [],
   "source": [
    "ll = LinkedList()\n",
    "ll.append(1)\n",
    "ll.append(2)\n",
    "ll.append(3)\n",
    "ll.append(4)\n",
    "print(ll.get(0))\n",
    "print(ll.get(1))\n",
    "print(ll.get(2))\n",
    "print(ll.get(3))\n",
    "\n",
    "ll.insert_at(idx = 1, value = 10)\n",
    "ll.remove_at(idx = 3)\n",
    "\n",
    "print(ll.get(0))\n",
    "print(ll.get(1))\n",
    "print(ll.get(2))\n",
    "print(ll.get(3))"
   ]
  }
 ],
 "metadata": {
  "language_info": {
   "name": "python"
  }
 },
 "nbformat": 4,
 "nbformat_minor": 5
}
