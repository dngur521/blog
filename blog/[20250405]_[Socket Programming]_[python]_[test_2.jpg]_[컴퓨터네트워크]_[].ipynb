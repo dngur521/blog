{
 "cells": [
  {
   "cell_type": "markdown",
   "id": "bfd05552",
   "metadata": {},
   "source": [
    "# 프로토콜 설계\n",
    "① 3개의 패킷 형식\n",
    "- 클라이언트 → 서버\n",
    "  { 'user'      : name,\n",
    "    'echoOption': option,\n",
    "    'message'   : message }\n",
    "---\n",
    "- 서버 → 클라이언트 정상 패킷\n",
    "{ \"message\": capitalizedSentence,\n",
    "  \"status\" : 700 }\n",
    "---\n",
    "- 서버 → 클라이언트 오류 패킷\n",
    "{ \"message\": errorMessage,\n",
    "  \"status\" : 701 ~ 704 중 한가지 }\n",
    "---\n",
    "\n",
    "② 패킷의 송/수신 순서\n",
    "\n",
    "- 클라이언트에서 JSON 형식의 패킷 데이터를 만들어서 서버로 전송한다.\n",
    "- 서버에서 패킷 데이터의 값을 읽어들여 option 값에 따라 적당한 패킷 데이터를 만든다.\n",
    "- 서버에서 만들어진 패킷 데이터를 클라이언트로 전송한다.\n",
    "---\n",
    "③ 각 패킷 송/수신 시 수행되는 동작\n",
    "\n",
    "1. 클라이언트는 사용자 이름(user)과 에코 옵션(echoOption)을 포함한 JSON 형식의 패킷을 생성하여 서버로 전송한다.\n",
    "- 이때 메시지(message)는 초기에는 빈 문자열이거나 “None”이다.\n",
    "- echoOption은 다음 중 하나의 값이다: \n",
    "  일반 에코 (그대로 출력), \n",
    "  대문자로 변환, \n",
    "  소문자로 변환, \n",
    "  프로그램 종료 요청\n",
    "---\n",
    "2. 서버는 클라이언트로부터 전달받은 패킷을 디코딩하여 echoOption 값을 확인한다.\n",
    "echoOption이 정수가 아니거나 허용된 범위(1~4)가 아닌 경우, \n",
    "서버는 오류 상태 코드와 함께 오류 메시지를 포함한 JSON 패킷을 클라이언트로 전송한다.\n",
    "•\t상태 코드\n",
    "- 700: 정상\n",
    "- 701: 1 미만의 정수\n",
    "- 702: 정수가 아닌 실수\n",
    "- 703: 4 초과의 정수\n",
    "- 704: 문자열 등 정수가 아닌 기타 입력\n",
    "---\n",
    "3. 서버가 유효한 옵션을 수신했을 경우, 클라이언트는 메시지 입력을 진행한다. \n",
    "메시지를 포함한 JSON 패킷이 다시 서버로 전송된다.\n",
    "서버는 해당 메시지를 echoOption 값에 따라 다음과 같이 가공한다:\n",
    "- 1: 입력 그대로 반환\n",
    "- 2: .upper() 함수를 적용해 대문자로 변환\n",
    "- 3: .lower() 함수를 적용해 소문자로 변환\n",
    "- 4: “exit” 메시지를 전송하고 서버 종료\n",
    "---\n",
    "4. 서버는 가공된 메시지(capitalizedSentence)를 포함한 정상 응답 패킷을 전송한다.\n",
    "---\n",
    "5. 클라이언트는 서버 응답을 출력하며, 받은 메시지가 “exit”일 경우 프로그램을 종료한다.\n",
    "---"
   ]
  },
  {
   "cell_type": "markdown",
   "id": "887d9e12",
   "metadata": {},
   "source": [
    "# 클라이언트"
   ]
  },
  {
   "cell_type": "markdown",
   "id": "791ec29d",
   "metadata": {},
   "source": [
    "필요한 패키지 import"
   ]
  },
  {
   "cell_type": "code",
   "execution_count": null,
   "id": "3bfe47e8",
   "metadata": {},
   "outputs": [],
   "source": [
    "import json\n",
    "from socket import *"
   ]
  },
  {
   "cell_type": "markdown",
   "id": "46c78d57",
   "metadata": {},
   "source": [
    "JSON 형식의 데이터 반환하는 함수"
   ]
  },
  {
   "cell_type": "code",
   "execution_count": null,
   "id": "b2d7ed6c",
   "metadata": {},
   "outputs": [],
   "source": [
    "def getJsonData(name=\"Default\", option=\"1\", message=\"None\"):\n",
    "    sentence = {\n",
    "        'user'      : name,\n",
    "        'echoOption': option,\n",
    "        'message'   : message\n",
    "    }\n",
    "    return json.dumps(sentence)"
   ]
  },
  {
   "cell_type": "markdown",
   "id": "7fa292b7",
   "metadata": {},
   "source": [
    "서버 초기 설정"
   ]
  },
  {
   "cell_type": "code",
   "execution_count": null,
   "id": "581701bc",
   "metadata": {},
   "outputs": [],
   "source": [
    "serverName   = '127.0.0.1'\n",
    "serverPort   = 12001\n",
    "clientSocket = socket(AF_INET, SOCK_STREAM)\n",
    "clientSocket.connect((serverName, serverPort))"
   ]
  },
  {
   "cell_type": "markdown",
   "id": "e67f1538",
   "metadata": {},
   "source": [
    "메인 프로그램 동작"
   ]
  },
  {
   "cell_type": "code",
   "execution_count": null,
   "id": "54bb3b28",
   "metadata": {},
   "outputs": [],
   "source": [
    "name = input('사용자 이름 입력: ')\n",
    "while True:\n",
    "    print('에코 옵션 (1. 일반 에코, 2: 대문자로 에코, 3: 소문자로 에코, 4: 채팅 종료)')\n",
    "    try:\n",
    "        option_input = input(\"입력: \")  # 먼저 문자열로 입력받음\n",
    "        # 정수 변환 시도\n",
    "        try:\n",
    "            option = int(option_input)\n",
    "        except ValueError:\n",
    "            # 실수 또는 문자열 입력 시 바로 서버로 오류 코드 전송 (702 또는 704)\n",
    "            json_data = getJsonData(name, option_input)  # option_input을 그대로 보냄\n",
    "            clientSocket.send(json_data.encode())\n",
    "\n",
    "            response      = clientSocket.recv(1024).decode()\n",
    "            json_response = json.loads(response)\n",
    "\n",
    "            print(f\"{json_response['status']}, {json_response['message']}\")\n",
    "            continue  # 오류 발생 시 다시 옵션 입력 요청\n",
    "\n",
    "        # JSON 인코딩 후 server로 전송 (message 없이 option만 보냄)\n",
    "        json_data = getJsonData(name, option)\n",
    "        clientSocket.send(json_data.encode())\n",
    "\n",
    "        # 서버 응답 받기\n",
    "        response         = clientSocket.recv(1024).decode()\n",
    "        json_response    = json.loads(response)\n",
    "        modifiedSentence = json_response[\"message\"]\n",
    "        serverStatus     = json_response[\"status\"]\n",
    "\n",
    "        # 오류 코드 확인 (701~704)\n",
    "        if 701 <= serverStatus <= 704:\n",
    "            print(f\"{serverStatus}, {modifiedSentence}\")\n",
    "            continue  # 오류 발생 시 다시 옵션 입력 받음\n",
    "\n",
    "        # 프로그램 종료 (option == 4)\n",
    "        if option == 4 and modifiedSentence == 'exit':\n",
    "            print('프로그램을 종료함')\n",
    "            break\n",
    "\n",
    "        # 정상 메시지 처리\n",
    "        message   = input('메시지 입력: ')\n",
    "        json_data = getJsonData(name, option, message)\n",
    "        clientSocket.send(json_data.encode())\n",
    "\n",
    "        # 서버 응답 받기\n",
    "        response         = clientSocket.recv(1024).decode()\n",
    "        json_response    = json.loads(response)\n",
    "        modifiedSentence = json_response[\"message\"]\n",
    "        \n",
    "        print(f\"[ {name} ]: {modifiedSentence}\")\n",
    "\n",
    "    # KeyboardInterrupt 처리\n",
    "    except KeyboardInterrupt:\n",
    "        print(\"KeyboardInterrupt\")\n",
    "        json_data = getJsonData(\"KeyboardInterrupt\", 4, \"KeyboardInterrupt\")\n",
    "        clientSocket.send(json_data.encode())\n",
    "        clientSocket.close()\n",
    "        break\n",
    "\n",
    "clientSocket.close()"
   ]
  },
  {
   "cell_type": "markdown",
   "id": "087c2129",
   "metadata": {},
   "source": []
  },
  {
   "cell_type": "markdown",
   "id": "ab9dfbd7",
   "metadata": {},
   "source": [
    "# 서버"
   ]
  },
  {
   "cell_type": "markdown",
   "id": "e9a1c4ef",
   "metadata": {},
   "source": [
    "필요한 패키지 import"
   ]
  },
  {
   "cell_type": "code",
   "execution_count": null,
   "id": "83c9da7a",
   "metadata": {},
   "outputs": [],
   "source": [
    "import json\n",
    "from socket import *"
   ]
  },
  {
   "cell_type": "markdown",
   "id": "fd80580b",
   "metadata": {},
   "source": [
    "서버 초기 설정"
   ]
  },
  {
   "cell_type": "code",
   "execution_count": null,
   "id": "440baa6a",
   "metadata": {},
   "outputs": [],
   "source": [
    "serverPort   = 12001\n",
    "serverSocket = socket(AF_INET, SOCK_STREAM)\n",
    "serverSocket.bind(('', serverPort))\n",
    "serverSocket.listen(1)\n",
    "print('The server is ready to receive')\n",
    "connectionSocket, addr = serverSocket.accept()"
   ]
  },
  {
   "cell_type": "markdown",
   "id": "bacc5228",
   "metadata": {},
   "source": [
    "상태코드에 따른 오류 문구"
   ]
  },
  {
   "cell_type": "code",
   "execution_count": null,
   "id": "4fa2a69e",
   "metadata": {},
   "outputs": [],
   "source": [
    "error701 = \"ValueError: integer less than 1\"      # 0 이하의 정수 입력 오류\n",
    "error702 = \"ValueError: non-integer(real number)\" # 정수가 아닌 실수 입력 오류\n",
    "error703 = \"ValueError: integer more than 4\"      # 5 이상의 정수 입력 오류\n",
    "error704 = \"ValueError: non-integer(string)\"      # 문자 입력 오류"
   ]
  },
  {
   "cell_type": "markdown",
   "id": "745dcf1d",
   "metadata": {},
   "source": [
    "메인 프로그램 작동"
   ]
  },
  {
   "cell_type": "code",
   "execution_count": null,
   "id": "74aabe65",
   "metadata": {},
   "outputs": [],
   "source": [
    "while True:\n",
    "    try:\n",
    "        # 클라이언트에서 값 받고 추출하기\n",
    "        data      = connectionSocket.recv(1024)\n",
    "        json_data = json.loads(data.decode())\n",
    "        user      = json_data['user']\n",
    "        option    = json_data['echoOption']\n",
    "        message   = json_data['message']\n",
    "        if message != \"None\":\n",
    "            print(f\"Before: [ {user} ]: {message}\")\n",
    "        # option이 문자열이면 숫자로 변환 시도\n",
    "        if isinstance(option, str):\n",
    "            if option.replace('.', '', 1).isdigit():  # 실수인지 확인\n",
    "                response = json.dumps({\n",
    "                    \"message\": error702,\n",
    "                    \"status\" : 702\n",
    "                })\n",
    "                connectionSocket.send(response.encode())\n",
    "                continue\n",
    "            else:  # 문자열인 경우\n",
    "                response = json.dumps({\n",
    "                    \"message\": error704,\n",
    "                    \"status\" : 704\n",
    "                })\n",
    "                connectionSocket.send(response.encode())\n",
    "                continue\n",
    "\n",
    "        # option이 정수인지 확인 \n",
    "        # (1: 그대로, 2: 대문자화, 3: 소문자화, 4: 프로그램 종료)\n",
    "        if isinstance(option, int):\n",
    "            if 1 <= option <= 4:\n",
    "                if   option == 2:\n",
    "                    capitalizedSentence = message.upper()\n",
    "                elif option == 3:\n",
    "                    capitalizedSentence = message.lower()\n",
    "                elif option == 4:\n",
    "                    print('프로그램 종료')\n",
    "                    response = json.dumps({\n",
    "                        \"message\": \"exit\",\n",
    "                        \"status\" : 700\n",
    "                    })\n",
    "                    connectionSocket.send(response.encode())\n",
    "                    break\n",
    "                else:\n",
    "                    capitalizedSentence = message\n",
    "            # option이 1 이하면 701, 5 이상이면 703 반환\n",
    "            else:\n",
    "                error_msg = error701 if option < 1 else error703\n",
    "                response  = json.dumps({\n",
    "                    \"message\": error_msg,\n",
    "                    \"status\" : 701 if option < 1 else 703\n",
    "                })\n",
    "                connectionSocket.send(response.encode())\n",
    "                continue\n",
    "        # 이외의 경우 오류처리\n",
    "        else:\n",
    "            response = json.dumps({\n",
    "                \"message\": error704,\n",
    "                \"status\" : 704\n",
    "            })\n",
    "            connectionSocket.send(response.encode())\n",
    "            continue\n",
    "        if message != \"None\":\n",
    "            print(f\"After : [ {user} ]: {capitalizedSentence}\")\n",
    "\n",
    "        response = json.dumps({\n",
    "            \"message\": capitalizedSentence,\n",
    "            \"status\" : 700\n",
    "        })\n",
    "        connectionSocket.send(response.encode())\n",
    "\n",
    "    except ValueError:\n",
    "        response = json.dumps({\n",
    "            \"message\": error702,\n",
    "            \"status\" : 702\n",
    "        })\n",
    "        connectionSocket.send(response.encode())\n",
    "\n",
    "connectionSocket.close()"
   ]
  },
  {
   "cell_type": "markdown",
   "id": "0d7d51be",
   "metadata": {},
   "source": [
    "# 실행 화면 예시\n",
    "- 클라이언트\n",
    "\n",
    "![클라이언트](https://i.ibb.co/0jN7RMD9/socket-1.png)\n",
    "\n",
    "- 서버\n",
    "\n",
    "![서버](https://i.ibb.co/jPBSpp3W/socket-2.png)"
   ]
  }
 ],
 "metadata": {
  "language_info": {
   "name": "python"
  }
 },
 "nbformat": 4,
 "nbformat_minor": 5
}
