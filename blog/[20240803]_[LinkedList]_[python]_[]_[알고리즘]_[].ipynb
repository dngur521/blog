{
 "cells": [
  {
   "cell_type": "markdown",
   "id": "29559516",
   "metadata": {},
   "source": [
    "# Linked List\n"
   ]
  },
  {
   "cell_type": "code",
   "execution_count": null,
   "id": "db021497",
   "metadata": {},
   "outputs": [],
   "source": [
    "class Node:\n",
    "    def __init__(self, value = 0, next = None):\n",
    "        self.value = value\n",
    "        self.next  = next"
   ]
  },
  {
   "cell_type": "code",
   "execution_count": null,
   "id": "46d1a46c",
   "metadata": {},
   "outputs": [],
   "source": [
    "class LinkedList(object):\n",
    "    def __init__(self):\n",
    "        self.head = None\n",
    "        self.tail = None\n",
    "\n",
    "    def append(self, value):\n",
    "        new_node = Node(value)\n",
    "        if self.head is None: # head는 맨 첫 Node를 가리켜야 한다.\n",
    "            self.head = new_node\n",
    "            self.tail = new_node\n",
    "        else: # 맨 뒤의 node가 new_node를 가리켜야 한다.\n",
    "            # 신 버전 (O(1))\n",
    "            self.tail.next = new_node\n",
    "            self.tail      = self.tail.next\n",
    "\n",
    "            # 옛날 버전 (O(n))\n",
    "            # current = self.head\n",
    "            # while(current.next): # current의 next가 존재하는동안 계속 오른쪽으로 반복, 즉 마지막 노드까지(연결 안된 노드 바로 직전까지) 이동하는 while 문\n",
    "            #     current = current.next\n",
    "            # current.next = new_node # 마지막까지 왔다면 current 다음 주소를 new_node를 가리키게 연결해주기\n",
    "\n",
    "    def get(self, idx): # 시간복잡도: O(n)\n",
    "        current = self.head\n",
    "        for _ in range(idx):\n",
    "            current = current.next\n",
    "        return current.value\n",
    "\n",
    "    def insert_at(self, idx, value):\n",
    "        current = self.head\n",
    "        for _ in range(idx - 1):     # current의 index를 삽입할 위치 직전으로 이동\n",
    "            current = current.next\n",
    "        new_node      = Node(value)  \n",
    "        new_node.next = current.next # 먼저 new_node의 주소값을 원래 current의 next 주소값으로 바꿔주고\n",
    "        current.next  = new_node     # 그 다음에 원래 current의 next 주소값을 new_node의 주소값으로 바꿔주기\n",
    "\n",
    "    def remove_at(self, idx):\n",
    "        current = self.head\n",
    "        for _ in range(idx - 1):\n",
    "            current  = current.next\n",
    "        current.next = current.next.next"
   ]
  },
  {
   "cell_type": "code",
   "execution_count": null,
   "id": "e496a4cc",
   "metadata": {},
   "outputs": [],
   "source": [
    "ll = LinkedList()\n",
    "ll.append(1)\n",
    "ll.append(2)\n",
    "ll.append(3)\n",
    "ll.append(4)\n",
    "print(ll.get(0))\n",
    "print(ll.get(1))\n",
    "print(ll.get(2))\n",
    "print(ll.get(3))\n",
    "\n",
    "ll.insert_at(idx = 1, value = 10)\n",
    "ll.remove_at(idx = 3)\n",
    "\n",
    "print(ll.get(0))\n",
    "print(ll.get(1))\n",
    "print(ll.get(2))\n",
    "print(ll.get(3))"
   ]
  }
 ],
 "metadata": {
  "language_info": {
   "name": "python"
  }
 },
 "nbformat": 4,
 "nbformat_minor": 5
}
